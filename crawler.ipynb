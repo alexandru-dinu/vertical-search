{
 "cells": [
  {
   "cell_type": "code",
   "execution_count": 1,
   "metadata": {},
   "outputs": [],
   "source": [
    "import os\n",
    "from argparse import Namespace\n",
    "from tqdm.auto import tqdm\n",
    "\n",
    "from collections import defaultdict\n",
    "import pandas as pd\n",
    "\n",
    "import urllib.request\n",
    "from bs4 import BeautifulSoup\n",
    "\n",
    "from nltk.tokenize import RegexpTokenizer"
   ]
  },
  {
   "cell_type": "code",
   "execution_count": 2,
   "metadata": {},
   "outputs": [],
   "source": [
    "class Article:\n",
    "    def __init__(self, title, authors, pdf):\n",
    "        self.title = title\n",
    "        self.authors = authors\n",
    "        self.pdf = pdf\n",
    "        \n",
    "    def __repr__(self):\n",
    "        s = 'Article {\\n'\n",
    "        for k, v in self.__dict__.items():\n",
    "            s += f'{k:>10}: {v}\\n'\n",
    "        s += '}'\n",
    "        return s"
   ]
  },
  {
   "cell_type": "code",
   "execution_count": 3,
   "metadata": {},
   "outputs": [],
   "source": [
    "CFG = Namespace()\n",
    "\n",
    "CFG.url      = 'http://arxiv.org/list/cs.{}/{}{}?show={}'\n",
    "CFG.fields   = ['CV']\n",
    "CFG.years    = ['{:0>2d}'.format(i) for i in range(18, 19)]\n",
    "CFG.months   = ['{:0>2d}'.format(i+1) for i in range(3, 4)]\n",
    "CFG.max_show = 1000\n",
    "\n",
    "tokenizer = RegexpTokenizer(r'\\w+')"
   ]
  },
  {
   "cell_type": "code",
   "execution_count": 4,
   "metadata": {},
   "outputs": [],
   "source": [
    "def crawl(fields, years, months, max_show=1000):\n",
    "    out = []\n",
    "    \n",
    "    for field in fields:\n",
    "        for year in years:\n",
    "            for month in months:\n",
    "                query_url = CFG.url.format(field, year, month, max_show)\n",
    "                print(f'> retrieving [{query_url}]')\n",
    "                uh = urllib.request.urlopen(query_url)\n",
    "                soup = BeautifulSoup(str(uh.read()))\n",
    "                out.append(soup)\n",
    "                  \n",
    "    return out"
   ]
  },
  {
   "cell_type": "code",
   "execution_count": 5,
   "metadata": {},
   "outputs": [
    {
     "name": "stdout",
     "output_type": "stream",
     "text": [
      "> retrieving [http://arxiv.org/list/cs.CV/1804?show=1000]\n"
     ]
    }
   ],
   "source": [
    "out = crawl(CFG.fields, CFG.years, CFG.months)"
   ]
  },
  {
   "cell_type": "code",
   "execution_count": 6,
   "metadata": {},
   "outputs": [
    {
     "data": {
      "text/plain": [
       "(752, 752, 752)"
      ]
     },
     "execution_count": 6,
     "metadata": {},
     "output_type": "execute_result"
    }
   ],
   "source": [
    "titles = out[0].findAll('div', {'class': 'list-title'})\n",
    "urls  = out[0].findAll('span', {'class': 'list-identifier'})\n",
    "authors = out[0].findAll('div', {'class': 'list-authors'})\n",
    "\n",
    "len(titles), len(authors), len(urls)"
   ]
  },
  {
   "cell_type": "code",
   "execution_count": 7,
   "metadata": {},
   "outputs": [
    {
     "data": {
      "text/plain": [
       "Article {\n",
       "     title: Class Subset Selection for Transfer Learning using Submodularity\n",
       "   authors: ['Varun Manjunatha', 'Srikumar Ramalingam', 'Tim K. Marks', 'Larry Davis']\n",
       "       pdf: http://arxiv.org/pdf/1804.00060.pdf\n",
       "}"
      ]
     },
     "execution_count": 7,
     "metadata": {},
     "output_type": "execute_result"
    }
   ],
   "source": [
    "i = 1\n",
    "u = 'http://arxiv.org' + urls[i].contents[0].attrs['href'].replace('abs', 'pdf') + '.pdf'\n",
    "a = [x.string.strip() for x in authors[i].findAll('a')]\n",
    "t = titles[i].contents[-1].strip().replace('\\\\n', '')\n",
    "\n",
    "ar = Article(t, a, u)\n",
    "ar"
   ]
  }
 ],
 "metadata": {
  "kernelspec": {
   "display_name": "Python 3",
   "language": "python",
   "name": "python3"
  },
  "language_info": {
   "codemirror_mode": {
    "name": "ipython",
    "version": 3
   },
   "file_extension": ".py",
   "mimetype": "text/x-python",
   "name": "python",
   "nbconvert_exporter": "python",
   "pygments_lexer": "ipython3",
   "version": "3.7.5"
  }
 },
 "nbformat": 4,
 "nbformat_minor": 4
}
