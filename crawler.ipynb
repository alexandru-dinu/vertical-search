{
 "cells": [
  {
   "cell_type": "code",
   "execution_count": null,
   "metadata": {},
   "outputs": [],
   "source": [
    "import os\n",
    "import time\n",
    "\n",
    "from argparse import Namespace\n",
    "from tqdm.auto import tqdm\n",
    "import random\n",
    "import pickle\n",
    "\n",
    "import itertools\n",
    "\n",
    "import urllib.request\n",
    "from bs4 import BeautifulSoup\n",
    "\n",
    "from common import Paper, get_abstract"
   ]
  },
  {
   "cell_type": "code",
   "execution_count": null,
   "metadata": {},
   "outputs": [],
   "source": [
    "CFG = Namespace()\n",
    "\n",
    "CFG.url      = 'http://arxiv.org/list/cs.{}/{}{}?show={}'\n",
    "CFG.fields   = ['AI', 'CL', 'CV', 'IR'][:1]\n",
    "CFG.years    = ['{:0>2d}'.format(i) for i in range(17, 20)]\n",
    "CFG.months   = ['{:0>2d}'.format(i) for i in range(1, 12)]\n",
    "CFG.max_show = 1000"
   ]
  },
  {
   "cell_type": "code",
   "execution_count": null,
   "metadata": {},
   "outputs": [],
   "source": [
    "def crawl(fields: [str], years: [str], months: [str], max_show=1000) -> [Paper]:\n",
    "    all_papers = []\n",
    "    done = True\n",
    "    \n",
    "    info = list(itertools.product(fields, years, months))\n",
    "    random.shuffle(info)\n",
    "        \n",
    "    for field, year, month in info:\n",
    "        fname = f'out/papers-{field}-{year}-{month}.pkl'\n",
    "\n",
    "        if os.path.exists(fname):\n",
    "            continue\n",
    "        \n",
    "        done = False\n",
    "        query_url = CFG.url.format(field, year, month, max_show)\n",
    "\n",
    "        try:\n",
    "            headers = {'User-Agent': 'Mozilla/5.0 (X11; Linux i686) AppleWebKit/537.17 (KHTML, like Gecko) Chrome/24.0.1312.27 Safari/537.17'}\n",
    "            req = urllib.request.Request(url=query_url, headers=headers) \n",
    "            uh = urllib.request.urlopen(req)\n",
    "            soup = BeautifulSoup(str(uh.read()))\n",
    "        except Exception as e:\n",
    "            print(f'error for {query_url}: {e}')\n",
    "            continue\n",
    "\n",
    "        titles = soup.findAll('div', {'class': 'list-title'})\n",
    "        authors = soup.findAll('div', {'class': 'list-authors'})\n",
    "        urls = soup.findAll('span', {'class': 'list-identifier'})\n",
    "\n",
    "        assert len(titles) == len(authors) == len(urls)\n",
    "\n",
    "        papers = []\n",
    "        for i in tqdm(range(len(titles)), desc=f'{field} | {year} | {month} '):\n",
    "            t = titles[i].contents[-1].strip().replace('\\\\n', '')\n",
    "            a = [x.string.strip() for x in authors[i].findAll('a')]\n",
    "            ref = urls[i].contents[0].attrs['href'].split('/')[-1]\n",
    "            p = f'http://arxiv.org/pdf/{ref}.pdf'\n",
    "            abstract = get_abstract(url=f'http://arxiv.org/abs/{ref}')\n",
    "\n",
    "            papers.append(Paper(field=field, title=t, authors=a, pdf=p, abstract=abstract))\n",
    "\n",
    "        pickle.dump(papers, open(fname, 'wb'))\n",
    "        all_papers += papers\n",
    "        done = True\n",
    "\n",
    "    return all_papers, done"
   ]
  },
  {
   "cell_type": "markdown",
   "metadata": {},
   "source": [
    "### Crawler main"
   ]
  },
  {
   "cell_type": "code",
   "execution_count": null,
   "metadata": {},
   "outputs": [],
   "source": [
    "while True:\n",
    "    _, done = crawl(CFG.fields, CFG.years, CFG.months, CFG.max_show)\n",
    "    if done:\n",
    "        break\n",
    "    print('-' * 128)\n",
    "    for i in tqdm(range(10), desc='sleep'):\n",
    "        time.sleep(60)\n",
    "        \n",
    "print('Done')"
   ]
  }
 ],
 "metadata": {
  "kernelspec": {
   "display_name": "Python 3",
   "language": "python",
   "name": "python3"
  },
  "language_info": {
   "codemirror_mode": {
    "name": "ipython",
    "version": 3
   },
   "file_extension": ".py",
   "mimetype": "text/x-python",
   "name": "python",
   "nbconvert_exporter": "python",
   "pygments_lexer": "ipython3",
   "version": "3.7.5"
  }
 },
 "nbformat": 4,
 "nbformat_minor": 4
}
