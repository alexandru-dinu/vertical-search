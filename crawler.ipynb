{
 "cells": [
  {
   "cell_type": "code",
   "execution_count": 1,
   "metadata": {},
   "outputs": [],
   "source": [
    "import os\n",
    "from argparse import Namespace\n",
    "from tqdm.auto import tqdm\n",
    "import random\n",
    "\n",
    "from collections import defaultdict\n",
    "import pandas as pd\n",
    "\n",
    "import urllib.request\n",
    "from bs4 import BeautifulSoup\n",
    "\n",
    "from nltk.tokenize import RegexpTokenizer"
   ]
  },
  {
   "cell_type": "code",
   "execution_count": 2,
   "metadata": {},
   "outputs": [
    {
     "data": {
      "text/plain": [
       "{'AI': 'Artificial Intelligence',\n",
       " 'CL': 'Computation and Language',\n",
       " 'CC': 'Computational Complexity',\n",
       " 'CE': 'Computational Engineering, Finance, and Science',\n",
       " 'CG': 'Computational Geometry',\n",
       " 'GT': 'Computer Science and Game Theory',\n",
       " 'CV': 'Computer Vision and Pattern Recognition',\n",
       " 'CY': 'Computers and Society',\n",
       " 'CR': 'Cryptography and Security',\n",
       " 'DS': 'Data Structures and Algorithms',\n",
       " 'DB': 'Databases',\n",
       " 'DL': 'Digital Libraries',\n",
       " 'DM': 'Discrete Mathematics',\n",
       " 'DC': 'Distributed, Parallel, and Cluster Computing',\n",
       " 'ET': 'Emerging Technologies',\n",
       " 'FL': 'Formal Languages and Automata Theory',\n",
       " 'GL': 'General Literature',\n",
       " 'GR': 'Graphics',\n",
       " 'AR': 'Hardware Architecture',\n",
       " 'HC': 'Human-Computer Interaction',\n",
       " 'IR': 'Information Retrieval',\n",
       " 'IT': 'Information Theory',\n",
       " 'LO': 'Logic in Computer Science',\n",
       " 'LG': 'Machine Learning',\n",
       " 'MS': 'Mathematical Software',\n",
       " 'MA': 'Multiagent Systems',\n",
       " 'MM': 'Multimedia',\n",
       " 'NI': 'Networking and Internet Architecture',\n",
       " 'NE': 'Neural and Evolutionary Computing',\n",
       " 'NA': 'Numerical Analysis',\n",
       " 'OS': 'Operating Systems',\n",
       " 'OH': 'Other Computer Science',\n",
       " 'PF': 'Performance',\n",
       " 'PL': 'Programming Languages',\n",
       " 'RO': 'Robotics',\n",
       " 'SI': 'Social and Information Networks',\n",
       " 'SE': 'Software Engineering',\n",
       " 'SD': 'Sound',\n",
       " 'SC': 'Symbolic Computation',\n",
       " 'SY': 'Systems and Control'}"
      ]
     },
     "execution_count": 2,
     "metadata": {},
     "output_type": "execute_result"
    }
   ],
   "source": [
    "def get_fields(domain='cs'):\n",
    "    fields = {}\n",
    "\n",
    "    uh = urllib.request.urlopen(f'https://arxiv.org/archive/{domain}')\n",
    "    soup = BeautifulSoup(str(uh.read()))\n",
    "\n",
    "    for x in soup.findAll('ul')[2].findAll('li'):\n",
    "        k = x.findAll('b')[0].text\n",
    "        field, desc = k[3:5], k[8:]\n",
    "        fields[field] = desc\n",
    "\n",
    "    return fields\n",
    "\n",
    "def get_abstract(url):\n",
    "    uh = urllib.request.urlopen(url)\n",
    "    soup = BeautifulSoup(str(uh.read()))\n",
    "    a = soup.findAll('blockquote', {'class': 'abstract mathjax'})[0].text\n",
    "    a = a.replace('\\\\n', ' ')\n",
    "    a = a.replace('Abstract:  ', '')\n",
    "    return a\n",
    "\n",
    "get_fields('cs')"
   ]
  },
  {
   "cell_type": "code",
   "execution_count": 3,
   "metadata": {},
   "outputs": [],
   "source": [
    "class Article:\n",
    "    def __init__(self, field, title, authors, pdf, abstract):\n",
    "        self.field = field\n",
    "        self.title = title\n",
    "        self.authors = authors\n",
    "        self.pdf = pdf\n",
    "        self.abstract = abstract # TODO\n",
    "        \n",
    "    def __repr__(self):\n",
    "        s = 'Article {\\n'\n",
    "        s += ''.join([f'{k:>10}: {v}\\n' for k, v in self.__dict__.items()])\n",
    "        s += '}'\n",
    "        return s"
   ]
  },
  {
   "cell_type": "code",
   "execution_count": 4,
   "metadata": {},
   "outputs": [],
   "source": [
    "CFG = Namespace()\n",
    "\n",
    "CFG.url      = 'http://arxiv.org/list/cs.{}/{}{}?show={}'\n",
    "CFG.fields   = ['AI', 'CL', 'IR'][:1]\n",
    "CFG.years    = ['{:0>2d}'.format(i) for i in range(18, 19)]\n",
    "CFG.months   = ['{:0>2d}'.format(i+1) for i in range(3, 4)]\n",
    "CFG.max_show = 1000\n",
    "\n",
    "tokenizer = RegexpTokenizer(r'\\w+')"
   ]
  },
  {
   "cell_type": "code",
   "execution_count": 5,
   "metadata": {},
   "outputs": [],
   "source": [
    "def crawl(fields, years, months, max_show=1000):\n",
    "    articles = []\n",
    "    \n",
    "    for field in fields:\n",
    "        for year in years:\n",
    "            for month in months:\n",
    "                query_url = CFG.url.format(field, year, month, max_show)\n",
    "                print(f'> retrieving [{query_url}]')\n",
    "                uh = urllib.request.urlopen(query_url)\n",
    "                soup = BeautifulSoup(str(uh.read()))\n",
    "                \n",
    "                titles = soup.findAll('div', {'class': 'list-title'})\n",
    "                authors = soup.findAll('div', {'class': 'list-authors'})\n",
    "                urls = soup.findAll('span', {'class': 'list-identifier'})\n",
    "                \n",
    "                assert len(titles) == len(authors) == len(urls)\n",
    "                \n",
    "                for i in range(len(titles)):\n",
    "                    t = titles[i].contents[-1].strip().replace('\\\\n', '')\n",
    "                    a = [x.string.strip() for x in authors[i].findAll('a')]\n",
    "                    \n",
    "                    ref = urls[i].contents[0].attrs['href'].split('/')[-1]\n",
    "                    \n",
    "                    p = f'http://arxiv.org/pdf/{ref}.pdf'\n",
    "                    abstract = get_abstract(url=f'http://arxiv.org/abs/{ref}')\n",
    "                    \n",
    "                    articles.append(Article(field=field, title=t, authors=a, pdf=p, abstract=abstract))\n",
    "\n",
    "    return articles"
   ]
  },
  {
   "cell_type": "code",
   "execution_count": 6,
   "metadata": {},
   "outputs": [
    {
     "name": "stdout",
     "output_type": "stream",
     "text": [
      "> retrieving [http://arxiv.org/list/cs.AI/1804?show=5]\n"
     ]
    }
   ],
   "source": [
    "out = crawl(CFG.fields, CFG.years, CFG.months, max_show=5)"
   ]
  },
  {
   "cell_type": "code",
   "execution_count": 7,
   "metadata": {},
   "outputs": [
    {
     "data": {
      "text/html": [
       "<div>\n",
       "<style scoped>\n",
       "    .dataframe tbody tr th:only-of-type {\n",
       "        vertical-align: middle;\n",
       "    }\n",
       "\n",
       "    .dataframe tbody tr th {\n",
       "        vertical-align: top;\n",
       "    }\n",
       "\n",
       "    .dataframe thead th {\n",
       "        text-align: right;\n",
       "    }\n",
       "</style>\n",
       "<table border=\"1\" class=\"dataframe\">\n",
       "  <thead>\n",
       "    <tr style=\"text-align: right;\">\n",
       "      <th></th>\n",
       "      <th>field</th>\n",
       "      <th>title</th>\n",
       "      <th>authors</th>\n",
       "      <th>pdf</th>\n",
       "      <th>abstract</th>\n",
       "    </tr>\n",
       "  </thead>\n",
       "  <tbody>\n",
       "    <tr>\n",
       "      <th>0</th>\n",
       "      <td>AI</td>\n",
       "      <td>Modeling Individual Differences in Game Behavi...</td>\n",
       "      <td>[Sara Bunian, Alessandro Canossa, Randy Colvin...</td>\n",
       "      <td>http://arxiv.org/pdf/1804.00245.pdf</td>\n",
       "      <td>Player modeling is an important concept that h...</td>\n",
       "    </tr>\n",
       "    <tr>\n",
       "      <th>1</th>\n",
       "      <td>AI</td>\n",
       "      <td>Learning to Run challenge: Synthesizing physio...</td>\n",
       "      <td>[Łukasz Kidziński, Sharada P. Mohanty, Carmich...</td>\n",
       "      <td>http://arxiv.org/pdf/1804.00198.pdf</td>\n",
       "      <td>Synthesizing physiologically-accurate human mo...</td>\n",
       "    </tr>\n",
       "    <tr>\n",
       "      <th>2</th>\n",
       "      <td>AI</td>\n",
       "      <td>Learning to Navigate in Cities Without a Map</td>\n",
       "      <td>[Piotr Mirowski, Matthew Koichi Grimes, Mateus...</td>\n",
       "      <td>http://arxiv.org/pdf/1804.00168.pdf</td>\n",
       "      <td>Navigating through unstructured environments i...</td>\n",
       "    </tr>\n",
       "    <tr>\n",
       "      <th>3</th>\n",
       "      <td>AI</td>\n",
       "      <td>Overview: A Hierarchical Framework for Plan Ge...</td>\n",
       "      <td>[Hang Ma, Wolfgang Hönig, Liron Cohen, Tansel ...</td>\n",
       "      <td>http://arxiv.org/pdf/1804.00038.pdf</td>\n",
       "      <td>The authors present an overview of a hierarchi...</td>\n",
       "    </tr>\n",
       "    <tr>\n",
       "      <th>4</th>\n",
       "      <td>AI</td>\n",
       "      <td>Efficient Encodings of Conditional Cardinality...</td>\n",
       "      <td>[Abdelhamid Boudane, Said Jabbour, Badran Radd...</td>\n",
       "      <td>http://arxiv.org/pdf/1804.00211.pdf</td>\n",
       "      <td>In the encoding of many real-world problems to...</td>\n",
       "    </tr>\n",
       "  </tbody>\n",
       "</table>\n",
       "</div>"
      ],
      "text/plain": [
       "  field                                              title  \\\n",
       "0    AI  Modeling Individual Differences in Game Behavi...   \n",
       "1    AI  Learning to Run challenge: Synthesizing physio...   \n",
       "2    AI       Learning to Navigate in Cities Without a Map   \n",
       "3    AI  Overview: A Hierarchical Framework for Plan Ge...   \n",
       "4    AI  Efficient Encodings of Conditional Cardinality...   \n",
       "\n",
       "                                             authors  \\\n",
       "0  [Sara Bunian, Alessandro Canossa, Randy Colvin...   \n",
       "1  [Łukasz Kidziński, Sharada P. Mohanty, Carmich...   \n",
       "2  [Piotr Mirowski, Matthew Koichi Grimes, Mateus...   \n",
       "3  [Hang Ma, Wolfgang Hönig, Liron Cohen, Tansel ...   \n",
       "4  [Abdelhamid Boudane, Said Jabbour, Badran Radd...   \n",
       "\n",
       "                                   pdf  \\\n",
       "0  http://arxiv.org/pdf/1804.00245.pdf   \n",
       "1  http://arxiv.org/pdf/1804.00198.pdf   \n",
       "2  http://arxiv.org/pdf/1804.00168.pdf   \n",
       "3  http://arxiv.org/pdf/1804.00038.pdf   \n",
       "4  http://arxiv.org/pdf/1804.00211.pdf   \n",
       "\n",
       "                                            abstract  \n",
       "0  Player modeling is an important concept that h...  \n",
       "1  Synthesizing physiologically-accurate human mo...  \n",
       "2  Navigating through unstructured environments i...  \n",
       "3  The authors present an overview of a hierarchi...  \n",
       "4  In the encoding of many real-world problems to...  "
      ]
     },
     "execution_count": 7,
     "metadata": {},
     "output_type": "execute_result"
    }
   ],
   "source": [
    "random.shuffle(out)\n",
    "df = pd.DataFrame([a.__dict__ for a in out])\n",
    "df"
   ]
  },
  {
   "cell_type": "code",
   "execution_count": 8,
   "metadata": {},
   "outputs": [
    {
     "data": {
      "text/plain": [
       "[Article {\n",
       "      field: AI\n",
       "      title: Modeling Individual Differences in Game Behavior using HMM\n",
       "    authors: ['Sara Bunian', 'Alessandro Canossa', 'Randy Colvin', 'Magy Seif El-Nasr']\n",
       "        pdf: http://arxiv.org/pdf/1804.00245.pdf\n",
       "   abstract: Player modeling is an important concept that has gained much attention in game research due to its utility in developing adaptive techniques to target better designs for engagement and retention. Previous work has explored modeling individual differences using machine learning algorithms per- formed on aggregated game actions. However, players\\' individual differences may be better manifested through sequential patterns of the in-game player\\'s actions. While few works have explored sequential analysis of player data, none have explored the use of Hidden Markov Models (HMM) to model individual differences, which is the topic of this paper. In par- ticular, we developed a modeling approach using data col- lected from players playing a Role-Playing Game (RPG). Our proposed approach is two fold: 1. We present a Hidden Markov Model (HMM) of player in-game behaviors to model individual differences, and 2. using the output of the HMM, we generate behavioral features used to classify real world players\\' characteristics, including game expertise and the big five personality traits. Our results show predictive power for some of personality traits, such as game expertise and conscientiousness, but the most influential factor was game expertise. \n",
       " }, Article {\n",
       "      field: AI\n",
       "      title: Learning to Run challenge: Synthesizing physiologically accurate motion  using deep reinforcement learning\n",
       "    authors: ['Łukasz Kidziński', 'Sharada P. Mohanty', 'Carmichael Ong', 'Jennifer L. Hicks', 'Sean F. Carroll', 'Sergey Levine', 'Marcel Salathé', 'Scott L. Delp']\n",
       "        pdf: http://arxiv.org/pdf/1804.00198.pdf\n",
       "   abstract: Synthesizing physiologically-accurate human movement in a variety of conditions can help practitioners plan surgeries, design experiments, or prototype assistive devices in simulated environments, reducing time and costs and improving treatment outcomes. Because of the large and complex solution spaces of biomechanical models, current methods are constrained to specific movements and models, requiring careful design of a controller and hindering many possible applications. We sought to discover if modern optimization methods efficiently explore these complex spaces. To do this, we posed the problem as a competition in which participants were tasked with developing a controller to enable a physiologically-based human model to navigate a complex obstacle course as quickly as possible, without using any experimental data. They were provided with a human musculoskeletal model and a physics-based simulation environment. In this paper, we discuss the design of the competition, technical difficulties, results, and analysis of the top controllers. The challenge proved that deep reinforcement learning techniques, despite their high computational cost, can be successfully employed as an optimization method for synthesizing physiologically feasible motion in high-dimensional biomechanical systems. \n",
       " }]"
      ]
     },
     "execution_count": 8,
     "metadata": {},
     "output_type": "execute_result"
    }
   ],
   "source": [
    "out[:2]"
   ]
  }
 ],
 "metadata": {
  "kernelspec": {
   "display_name": "Python 3",
   "language": "python",
   "name": "python3"
  },
  "language_info": {
   "codemirror_mode": {
    "name": "ipython",
    "version": 3
   },
   "file_extension": ".py",
   "mimetype": "text/x-python",
   "name": "python",
   "nbconvert_exporter": "python",
   "pygments_lexer": "ipython3",
   "version": "3.7.5"
  }
 },
 "nbformat": 4,
 "nbformat_minor": 4
}
