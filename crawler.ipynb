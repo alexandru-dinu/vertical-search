{
 "cells": [
  {
   "cell_type": "code",
   "execution_count": 1,
   "metadata": {},
   "outputs": [],
   "source": [
    "import os\n",
    "from argparse import Namespace\n",
    "from tqdm.auto import tqdm\n",
    "\n",
    "from collections import defaultdict\n",
    "import pandas as pd\n",
    "\n",
    "import urllib.request\n",
    "from bs4 import BeautifulSoup\n",
    "\n",
    "from nltk.tokenize import RegexpTokenizer"
   ]
  },
  {
   "cell_type": "code",
   "execution_count": 2,
   "metadata": {},
   "outputs": [],
   "source": [
    "class Article:\n",
    "    def __init__(self, title, authors, url):\n",
    "        self.title = title\n",
    "        self.authors = authors\n",
    "        self.url = url\n",
    "        \n",
    "    def __repr__(self):\n",
    "        s = 'Article {\\n'\n",
    "        s += ''.join([f'{k:>10}: {v}\\n' for k, v in self.__dict__.items()])\n",
    "        s += '}'\n",
    "        return s"
   ]
  },
  {
   "cell_type": "code",
   "execution_count": 3,
   "metadata": {},
   "outputs": [],
   "source": [
    "CFG = Namespace()\n",
    "\n",
    "CFG.url      = 'http://arxiv.org/list/cs.{}/{}{}?show={}'\n",
    "CFG.fields   = ['CV']\n",
    "CFG.years    = ['{:0>2d}'.format(i) for i in range(18, 19)]\n",
    "CFG.months   = ['{:0>2d}'.format(i+1) for i in range(3, 4)]\n",
    "CFG.max_show = 1000\n",
    "\n",
    "tokenizer = RegexpTokenizer(r'\\w+')"
   ]
  },
  {
   "cell_type": "code",
   "execution_count": 4,
   "metadata": {},
   "outputs": [],
   "source": [
    "def crawl(fields, years, months, max_show=1000):\n",
    "    articles = []\n",
    "    \n",
    "    for field in fields:\n",
    "        for year in years:\n",
    "            for month in months:\n",
    "                query_url = CFG.url.format(field, year, month, max_show)\n",
    "                print(f'> retrieving [{query_url}]')\n",
    "                uh = urllib.request.urlopen(query_url)\n",
    "                soup = BeautifulSoup(str(uh.read()))\n",
    "                \n",
    "                titles = soup.findAll('div', {'class': 'list-title'})\n",
    "                authors = soup.findAll('div', {'class': 'list-authors'})\n",
    "                urls = soup.findAll('span', {'class': 'list-identifier'})\n",
    "                \n",
    "                assert len(titles) == len(authors) == len(urls)\n",
    "                \n",
    "                for i in range(len(titles)):\n",
    "                    t = titles[i].contents[-1].strip().replace('\\\\n', '')\n",
    "                    a = [x.string.strip() for x in authors[i].findAll('a')]\n",
    "                    u = 'http://arxiv.org' + urls[i].contents[0].attrs['href'].replace('abs', 'pdf') + '.pdf'\n",
    "                    \n",
    "                    articles.append(Article(title=t, authors=a, url=u))\n",
    "\n",
    "    return articles"
   ]
  },
  {
   "cell_type": "code",
   "execution_count": 5,
   "metadata": {},
   "outputs": [
    {
     "name": "stdout",
     "output_type": "stream",
     "text": [
      "> retrieving [http://arxiv.org/list/cs.CV/1804?show=1000]\n"
     ]
    }
   ],
   "source": [
    "out = crawl(CFG.fields, CFG.years, CFG.months)"
   ]
  },
  {
   "cell_type": "code",
   "execution_count": 7,
   "metadata": {},
   "outputs": [
    {
     "data": {
      "text/plain": [
       "[Article {\n",
       "      title: Hierarchical Transfer Convolutional Neural Networks for Image  Classification\n",
       "    authors: ['Xishuang Dong', 'Hsiang-Huang Wu', 'Yuzhong Yan', 'Lijun Qian']\n",
       "        url: http://arxiv.org/pdf/1804.00021.pdf\n",
       " }, Article {\n",
       "      title: Class Subset Selection for Transfer Learning using Submodularity\n",
       "    authors: ['Varun Manjunatha', 'Srikumar Ramalingam', 'Tim K. Marks', 'Larry Davis']\n",
       "        url: http://arxiv.org/pdf/1804.00060.pdf\n",
       " }, Article {\n",
       "      title: Learning Beyond Human Expertise with Generative Models for Dental  Restorations\n",
       "    authors: ['Jyh-Jing Hwang', 'Sergei Azernikov', 'Alexei A. Efros', 'Stella X. Yu']\n",
       "        url: http://arxiv.org/pdf/1804.00064.pdf\n",
       " }, Article {\n",
       "      title: FloorNet: A Unified Framework for Floorplan Reconstruction from 3D Scans\n",
       "    authors: ['Chen Liu', 'Jiaye Wu', 'Yasutaka Furukawa']\n",
       "        url: http://arxiv.org/pdf/1804.00090.pdf\n",
       " }, Article {\n",
       "      title: Iterative Learning with Open-set Noisy Labels\n",
       "    authors: ['Yisen Wang', 'Weiyang Liu', 'Xingjun Ma', 'James Bailey', 'Hongyuan Zha', 'Le Song', 'Shu-Tao Xia']\n",
       "        url: http://arxiv.org/pdf/1804.00092.pdf\n",
       " }, Article {\n",
       "      title: Adversarial Attacks and Defences Competition\n",
       "    authors: ['Alexey Kurakin', 'Ian Goodfellow', 'Samy Bengio', 'Yinpeng Dong', 'Fangzhou Liao', 'Ming Liang', 'Tianyu Pang', 'Jun Zhu', 'Xiaolin Hu', 'Cihang Xie', 'Jianyu Wang', 'Zhishuai Zhang', 'Zhou Ren', 'Alan Yuille', 'Sangxia Huang', 'Yao Zhao', 'Yuzhe Zhao', 'Zhonglin Han', 'Junjiajia Long', 'Yerkebulan Berdibekov', 'Takuya Akiba', 'Seiya Tokui', 'Motoki Abe']\n",
       "        url: http://arxiv.org/pdf/1804.00097.pdf\n",
       " }, Article {\n",
       "      title: Bidirectional Attentive Fusion with Context Gating for Dense Video  Captioning\n",
       "    authors: ['Jingwen Wang', 'Wenhao Jiang', 'Lin Ma', 'Wei Liu', 'Yong Xu']\n",
       "        url: http://arxiv.org/pdf/1804.00100.pdf\n",
       " }, Article {\n",
       "      title: A LiDAR Point Cloud Generator: from a Virtual World to Autonomous  Driving\n",
       "    authors: ['Xiangyu Yue', 'Bichen Wu', 'Sanjit A. Seshia', 'Kurt Keutzer', 'Alberto L. Sangiovanni-Vincentelli']\n",
       "        url: http://arxiv.org/pdf/1804.00103.pdf\n",
       " }, Article {\n",
       "      title: Visual Question Reasoning on General Dependency Tree\n",
       "    authors: ['Qingxing Cao', 'Xiaodan Liang', 'Bailing Li', 'Guanbin Li', 'Liang Lin']\n",
       "        url: http://arxiv.org/pdf/1804.00105.pdf\n",
       " }, Article {\n",
       "      title: Compare and Contrast: Learning Prominent Visual Differences\n",
       "    authors: ['Steven Chen', 'Kristen Grauman']\n",
       "        url: http://arxiv.org/pdf/1804.00112.pdf\n",
       " }]"
      ]
     },
     "execution_count": 7,
     "metadata": {},
     "output_type": "execute_result"
    }
   ],
   "source": [
    "out[:10]"
   ]
  }
 ],
 "metadata": {
  "kernelspec": {
   "display_name": "Python 3",
   "language": "python",
   "name": "python3"
  },
  "language_info": {
   "codemirror_mode": {
    "name": "ipython",
    "version": 3
   },
   "file_extension": ".py",
   "mimetype": "text/x-python",
   "name": "python",
   "nbconvert_exporter": "python",
   "pygments_lexer": "ipython3",
   "version": "3.7.5"
  }
 },
 "nbformat": 4,
 "nbformat_minor": 4
}
