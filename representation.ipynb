{
 "cells": [
  {
   "cell_type": "code",
   "execution_count": 6,
   "metadata": {},
   "outputs": [],
   "source": [
    "import os\n",
    "import pickle\n",
    "\n",
    "from collections import Counter\n",
    "import pandas as pd\n",
    "\n",
    "from common import Paper"
   ]
  },
  {
   "cell_type": "code",
   "execution_count": 5,
   "metadata": {},
   "outputs": [
    {
     "data": {
      "text/html": [
       "<div>\n",
       "<style scoped>\n",
       "    .dataframe tbody tr th:only-of-type {\n",
       "        vertical-align: middle;\n",
       "    }\n",
       "\n",
       "    .dataframe tbody tr th {\n",
       "        vertical-align: top;\n",
       "    }\n",
       "\n",
       "    .dataframe thead th {\n",
       "        text-align: right;\n",
       "    }\n",
       "</style>\n",
       "<table border=\"1\" class=\"dataframe\">\n",
       "  <thead>\n",
       "    <tr style=\"text-align: right;\">\n",
       "      <th></th>\n",
       "      <th>field</th>\n",
       "      <th>title</th>\n",
       "      <th>authors</th>\n",
       "      <th>pdf</th>\n",
       "      <th>abstract</th>\n",
       "    </tr>\n",
       "  </thead>\n",
       "  <tbody>\n",
       "    <tr>\n",
       "      <th>0</th>\n",
       "      <td>AI</td>\n",
       "      <td>AI in Game Playing: Sokoban Solver</td>\n",
       "      <td>[Anand Venkatesan, Atishay Jain, Rakesh Grewal]</td>\n",
       "      <td>http://arxiv.org/pdf/1807.00049.pdf</td>\n",
       "      <td>Artificial Intelligence is becoming instrument...</td>\n",
       "    </tr>\n",
       "    <tr>\n",
       "      <th>1</th>\n",
       "      <td>AI</td>\n",
       "      <td>Modeling Mistrust in End-of-Life Care</td>\n",
       "      <td>[Willie Boag, Harini Suresh, Leo Anthony Celi,...</td>\n",
       "      <td>http://arxiv.org/pdf/1807.00124.pdf</td>\n",
       "      <td>In this work, we characterize the doctor-patie...</td>\n",
       "    </tr>\n",
       "    <tr>\n",
       "      <th>2</th>\n",
       "      <td>AI</td>\n",
       "      <td>AI in Education needs interpretable machine le...</td>\n",
       "      <td>[Cristina Conati, Kaska Porayska-Pomsta, Manol...</td>\n",
       "      <td>http://arxiv.org/pdf/1807.00154.pdf</td>\n",
       "      <td>Interpretability of the underlying AI represen...</td>\n",
       "    </tr>\n",
       "    <tr>\n",
       "      <th>3</th>\n",
       "      <td>AI</td>\n",
       "      <td>Modeling Friends and Foes</td>\n",
       "      <td>[Pedro A. Ortega, Shane Legg]</td>\n",
       "      <td>http://arxiv.org/pdf/1807.00196.pdf</td>\n",
       "      <td>How can one detect friendly and adversarial be...</td>\n",
       "    </tr>\n",
       "    <tr>\n",
       "      <th>4</th>\n",
       "      <td>AI</td>\n",
       "      <td>Embedding Models for Episodic Knowledge Graphs</td>\n",
       "      <td>[Yunpu Ma, Volker Tresp, Erik Daxberger]</td>\n",
       "      <td>http://arxiv.org/pdf/1807.00228.pdf</td>\n",
       "      <td>In recent years a number of large-scale triple...</td>\n",
       "    </tr>\n",
       "  </tbody>\n",
       "</table>\n",
       "</div>"
      ],
      "text/plain": [
       "  field                                              title  \\\n",
       "0    AI                 AI in Game Playing: Sokoban Solver   \n",
       "1    AI              Modeling Mistrust in End-of-Life Care   \n",
       "2    AI  AI in Education needs interpretable machine le...   \n",
       "3    AI                          Modeling Friends and Foes   \n",
       "4    AI     Embedding Models for Episodic Knowledge Graphs   \n",
       "\n",
       "                                             authors  \\\n",
       "0    [Anand Venkatesan, Atishay Jain, Rakesh Grewal]   \n",
       "1  [Willie Boag, Harini Suresh, Leo Anthony Celi,...   \n",
       "2  [Cristina Conati, Kaska Porayska-Pomsta, Manol...   \n",
       "3                      [Pedro A. Ortega, Shane Legg]   \n",
       "4           [Yunpu Ma, Volker Tresp, Erik Daxberger]   \n",
       "\n",
       "                                   pdf  \\\n",
       "0  http://arxiv.org/pdf/1807.00049.pdf   \n",
       "1  http://arxiv.org/pdf/1807.00124.pdf   \n",
       "2  http://arxiv.org/pdf/1807.00154.pdf   \n",
       "3  http://arxiv.org/pdf/1807.00196.pdf   \n",
       "4  http://arxiv.org/pdf/1807.00228.pdf   \n",
       "\n",
       "                                            abstract  \n",
       "0  Artificial Intelligence is becoming instrument...  \n",
       "1  In this work, we characterize the doctor-patie...  \n",
       "2  Interpretability of the underlying AI represen...  \n",
       "3  How can one detect friendly and adversarial be...  \n",
       "4  In recent years a number of large-scale triple...  "
      ]
     },
     "execution_count": 5,
     "metadata": {},
     "output_type": "execute_result"
    }
   ],
   "source": [
    "concat = []\n",
    "\n",
    "for f in os.listdir('out'):\n",
    "    _, _, y, m = f.split('.')[0].split('-')\n",
    "    raw = pickle.load(open(os.path.join('out', f), 'rb'))\n",
    "    concat += [x.__dict__ for x in raw]\n",
    "    \n",
    "df = pd.DataFrame(concat)\n",
    "df.head()"
   ]
  },
  {
   "cell_type": "code",
   "execution_count": 7,
   "metadata": {},
   "outputs": [
    {
     "data": {
      "text/plain": [
       "[('Sergey Levine', 82),\n",
       " ('Pieter Abbeel', 64),\n",
       " ('Yoshua Bengio', 42),\n",
       " ('Julian Togelius', 39),\n",
       " ('Jun Wang', 30),\n",
       " ('Weinan Zhang', 28),\n",
       " ('Mohit Bansal', 28),\n",
       " ('Chelsea Finn', 28),\n",
       " ('Joshua B. Tenenbaum', 27),\n",
       " ('Nicolas Heess', 27)]"
      ]
     },
     "execution_count": 7,
     "metadata": {},
     "output_type": "execute_result"
    }
   ],
   "source": [
    "authors_cnt = Counter([a for x in df['authors'] for a in x])\n",
    "authors_cnt.most_common(10)"
   ]
  }
 ],
 "metadata": {
  "kernelspec": {
   "display_name": "Python 3",
   "language": "python",
   "name": "python3"
  },
  "language_info": {
   "codemirror_mode": {
    "name": "ipython",
    "version": 3
   },
   "file_extension": ".py",
   "mimetype": "text/x-python",
   "name": "python",
   "nbconvert_exporter": "python",
   "pygments_lexer": "ipython3",
   "version": "3.7.5"
  }
 },
 "nbformat": 4,
 "nbformat_minor": 4
}
