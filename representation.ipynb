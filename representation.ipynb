{
 "cells": [
  {
   "cell_type": "code",
   "execution_count": null,
   "metadata": {},
   "outputs": [],
   "source": [
    "import os\n",
    "import pickle\n",
    "\n",
    "from collections import Counter\n",
    "import pandas as pd\n",
    "\n",
    "from common import Paper\n",
    "\n",
    "%matplotlib inline\n",
    "%config InlineBackend.figure_format = 'retina'\n",
    "sns.set()"
   ]
  },
  {
   "cell_type": "code",
   "execution_count": null,
   "metadata": {},
   "outputs": [],
   "source": [
    "concat = []\n",
    "\n",
    "for f in os.listdir('out'):\n",
    "    _, field, year, month = f.split('.')[0].split('-')\n",
    "    raw = pickle.load(open(os.path.join('out', f), 'rb'))\n",
    "    concat += [x.__dict__ for x in raw]\n",
    "    \n",
    "df = pd.DataFrame(concat)\n",
    "df"
   ]
  },
  {
   "cell_type": "code",
   "execution_count": null,
   "metadata": {},
   "outputs": [],
   "source": [
    "df['field'].hist()\n",
    "# df['abstract'].apply(lambda x: len(x.split())).hist(bins=32)"
   ]
  },
  {
   "cell_type": "markdown",
   "metadata": {},
   "source": [
    "### Get papers by X"
   ]
  },
  {
   "cell_type": "code",
   "execution_count": null,
   "metadata": {},
   "outputs": [],
   "source": [
    "def get_authors(df):\n",
    "    # author -> papers published\n",
    "    return Counter([a for x in df['authors'] for a in x])\n",
    "\n",
    "def get_by_field(df, field: str):\n",
    "    # rows in df with given field name\n",
    "    return df[df['field'] == field]\n",
    "\n",
    "def get_by_author(df, author: str, spos=None, epos=None):   \n",
    "    # rows in df where @author is found between @spos and @epos\n",
    "    idx = [i for i,r in df.iterrows() if author in r['authors'][spos:epos]]\n",
    "    return df.loc[idx]"
   ]
  },
  {
   "cell_type": "code",
   "execution_count": null,
   "metadata": {},
   "outputs": [],
   "source": [
    "# e.g. get top-10 most common IR authors\n",
    "get_authors(get_by_field(df, 'IR')).most_common(10)"
   ]
  },
  {
   "cell_type": "code",
   "execution_count": null,
   "metadata": {},
   "outputs": [],
   "source": [
    "# e.g. get all AI papers where Yoshua Bengio is main author\n",
    "get_by_author(df, author='Yoshua Bengio', epos=1)"
   ]
  },
  {
   "cell_type": "code",
   "execution_count": null,
   "metadata": {},
   "outputs": [],
   "source": [
    "# e.g. get all IR papers where Ryota Hinami is among the first 2 authors\n",
    "get_by_author(df, author='Ryota Hinami', epos=2)"
   ]
  },
  {
   "cell_type": "code",
   "execution_count": null,
   "metadata": {},
   "outputs": [],
   "source": [
    "# e.g. get all AI papers where Pieter Abbeel is the last author\n",
    "get_by_author(df, author='Pieter Abbeel', spos=-1)"
   ]
  },
  {
   "cell_type": "markdown",
   "metadata": {},
   "source": [
    "### Boolean query\n",
    "\n",
    "example: `(lstm OR gru) AND attention`"
   ]
  },
  {
   "cell_type": "code",
   "execution_count": null,
   "metadata": {},
   "outputs": [],
   "source": [
    "def tokenize(text):\n",
    "    return text # TODO\n",
    "\n",
    "df['abstract'] = df['abstract'].apply(tokenize)\n",
    "\n",
    "df.sample(10)"
   ]
  }
 ],
 "metadata": {
  "kernelspec": {
   "display_name": "Python 3",
   "language": "python",
   "name": "python3"
  },
  "language_info": {
   "codemirror_mode": {
    "name": "ipython",
    "version": 3
   },
   "file_extension": ".py",
   "mimetype": "text/x-python",
   "name": "python",
   "nbconvert_exporter": "python",
   "pygments_lexer": "ipython3",
   "version": "3.7.5"
  }
 },
 "nbformat": 4,
 "nbformat_minor": 4
}
