{
 "cells": [
  {
   "cell_type": "code",
   "execution_count": null,
   "metadata": {},
   "outputs": [],
   "source": [
    "import os\n",
    "import glob\n",
    "import pickle\n",
    "\n",
    "from tqdm import tqdm\n",
    "\n",
    "from collections import Counter\n",
    "import pandas as pd\n",
    "\n",
    "from common import Paper\n",
    "\n",
    "%matplotlib inline\n",
    "%config InlineBackend.figure_format = 'retina'\n",
    "sns.set()"
   ]
  },
  {
   "cell_type": "code",
   "execution_count": null,
   "metadata": {},
   "outputs": [],
   "source": [
    "concat = []\n",
    "\n",
    "for f in tqdm(glob.glob('./papers/*.pkl')):\n",
    "    _, field, year, month = os.path.basename(f).split('.')[0].split('-')\n",
    "    raw = pickle.load(open(f, 'rb'))\n",
    "    concat += [x.__dict__ for x in raw]\n",
    "    \n",
    "df = pd.DataFrame(concat)\n",
    "print('shape:', df.shape)\n",
    "df.sample(2)"
   ]
  },
  {
   "cell_type": "code",
   "execution_count": null,
   "metadata": {},
   "outputs": [],
   "source": [
    "plt.figure(figsize=(14, 4))\n",
    "\n",
    "d = df['date'].apply(lambda x: x[1])\n",
    "xs = [len(d[d == i]) for i in range(1, 13)]\n",
    "assert sum(xs) == len(df)\n",
    "plt.subplot(1, 2, 1)\n",
    "plt.bar(range(1,13), xs, width=0.5)\n",
    "plt.xticks(range(1,13))\n",
    "plt.title('Papers by month', fontsize=14)\n",
    "\n",
    "fs = sorted(set(df['field']))\n",
    "xs = [len(df[df['field'] == f]) for f in fs]\n",
    "assert sum(xs) == len(df)\n",
    "plt.subplot(1, 2, 2)\n",
    "plt.bar(fs, xs, width=0.5)\n",
    "plt.title('Papers by field', fontsize=14)\n",
    "\n",
    "pass"
   ]
  },
  {
   "cell_type": "markdown",
   "metadata": {},
   "source": [
    "### Get papers by X"
   ]
  },
  {
   "cell_type": "code",
   "execution_count": null,
   "metadata": {},
   "outputs": [],
   "source": [
    "def get_authors(df):\n",
    "    # author -> papers published\n",
    "    return Counter([a for x in df['authors'] for a in x])\n",
    "\n",
    "def get_by_field(df, field: str):\n",
    "    # rows in df with given field name\n",
    "    return df[df['field'] == field]\n",
    "\n",
    "def get_by_author(df, author: str, spos=None, epos=None):   \n",
    "    # rows in df where @author is found between @spos and @epos\n",
    "    idx = [i for i,r in df.iterrows() if author in r['authors'][spos:epos]]\n",
    "    return df.loc[idx]"
   ]
  },
  {
   "cell_type": "code",
   "execution_count": null,
   "metadata": {},
   "outputs": [],
   "source": [
    "# e.g. get top-10 most common IR authors\n",
    "get_authors(get_by_field(df, 'IR')).most_common(10)"
   ]
  },
  {
   "cell_type": "code",
   "execution_count": null,
   "metadata": {},
   "outputs": [],
   "source": [
    "# main author\n",
    "get_by_author(df, author='Kaige Yang')"
   ]
  },
  {
   "cell_type": "code",
   "execution_count": null,
   "metadata": {},
   "outputs": [],
   "source": [
    "x = {'a': ['IR', 'LG'], 'b': [12, 12], 'c': [10, 10]}\n",
    "x = pd.DataFrame(x)\n",
    "df = x\n",
    "\n",
    "df"
   ]
  },
  {
   "cell_type": "code",
   "execution_count": null,
   "metadata": {},
   "outputs": [],
   "source": [
    "df.agg({'b': list}, axis=1).reset_index()"
   ]
  },
  {
   "cell_type": "code",
   "execution_count": null,
   "metadata": {},
   "outputs": [],
   "source": [
    "# among the first 2 authors\n",
    "get_by_author(df, author='Ryota Hinami', epos=2)"
   ]
  },
  {
   "cell_type": "code",
   "execution_count": null,
   "metadata": {},
   "outputs": [],
   "source": [
    "# last author\n",
    "get_by_author(df, author='Pieter Abbeel', spos=-1)"
   ]
  }
 ],
 "metadata": {
  "kernelspec": {
   "display_name": "Python 3",
   "language": "python",
   "name": "python3"
  },
  "language_info": {
   "codemirror_mode": {
    "name": "ipython",
    "version": 3
   },
   "file_extension": ".py",
   "mimetype": "text/x-python",
   "name": "python",
   "nbconvert_exporter": "python",
   "pygments_lexer": "ipython3",
   "version": "3.7.4"
  }
 },
 "nbformat": 4,
 "nbformat_minor": 4
}
